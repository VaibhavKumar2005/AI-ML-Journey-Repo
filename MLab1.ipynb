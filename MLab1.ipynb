{
  "nbformat": 4,
  "nbformat_minor": 0,
  "metadata": {
    "colab": {
      "provenance": [],
      "authorship_tag": "ABX9TyPtolJlgnMpsOFn2O+AntEz",
      "include_colab_link": true
    },
    "kernelspec": {
      "name": "python3",
      "display_name": "Python 3"
    },
    "language_info": {
      "name": "python"
    }
  },
  "cells": [
    {
      "cell_type": "markdown",
      "metadata": {
        "id": "view-in-github",
        "colab_type": "text"
      },
      "source": [
        "<a href=\"https://colab.research.google.com/github/VaibhavKumar2005/AI-ML-Journey-Repo-/blob/main/MLab1.ipynb\" target=\"_parent\"><img src=\"https://colab.research.google.com/assets/colab-badge.svg\" alt=\"Open In Colab\"/></a>"
      ]
    },
    {
      "cell_type": "markdown",
      "source": [
        "**Simple** **Linear** **Regression**"
      ],
      "metadata": {
        "id": "niClI2GeD0Re"
      }
    },
    {
      "cell_type": "markdown",
      "source": [
        "For a given student record consisting of no. of \"Hours\" and \"Marks scored\". Find approx marks required for a student to pass in the exam. How much a student score if he or she study for 10 hours?\n",
        "Model = LinearRegression()\n",
        "Output = Marks scored\n",
        "\n",
        "Data Collection: 1. Libraries"
      ],
      "metadata": {
        "id": "7mzjRyvKEH6q"
      }
    },
    {
      "cell_type": "code",
      "source": [
        "import pandas as pd\n",
        "import numpy as np\n",
        "import matplotlib.pyplot as plt\n",
        "import seaborn as sns"
      ],
      "metadata": {
        "id": "NRLSC88GIEnV"
      },
      "execution_count": null,
      "outputs": []
    },
    {
      "cell_type": "markdown",
      "source": [
        "DATA COLLECTION / DATA PREPROCESSING"
      ],
      "metadata": {
        "id": "yiHUViunItoY"
      }
    },
    {
      "cell_type": "code",
      "source": [
        "X = np.array([1,2,3,4,5,6]), reshape (-1, 1)\n",
        "Y = np.array([10, 20, 30, 35, 40, 45])"
      ],
      "metadata": {
        "id": "wIWkD-zEI2rA"
      },
      "execution_count": null,
      "outputs": []
    },
    {
      "cell_type": "markdown",
      "source": [
        "  MODEL SELECTION"
      ],
      "metadata": {
        "id": "7puCtr1sJdVQ"
      }
    },
    {
      "cell_type": "code",
      "source": [
        "from sklearn import linear_model\n",
        "model = linear_model.LinearRegression()"
      ],
      "metadata": {
        "id": "bGb33_Y1JS9w"
      },
      "execution_count": null,
      "outputs": []
    },
    {
      "cell_type": "markdown",
      "source": [
        "MODEL FIT"
      ],
      "metadata": {
        "id": "YJcYHV37KCya"
      }
    },
    {
      "cell_type": "code",
      "source": [
        "model.fit(X, Y)"
      ],
      "metadata": {
        "id": "Px65DD1EKD9I"
      },
      "execution_count": null,
      "outputs": []
    },
    {
      "cell_type": "markdown",
      "source": [
        "MODEL TRAINING"
      ],
      "metadata": {
        "id": "QtwlAZGHKNwB"
      }
    },
    {
      "cell_type": "code",
      "source": [
        "hours = 10\n",
        "marks = model.predict([[hours]])\n",
        "print(marks)"
      ],
      "metadata": {
        "id": "C8tC2l0cKa9K"
      },
      "execution_count": null,
      "outputs": []
    },
    {
      "cell_type": "code",
      "source": [
        "[74.37142857]"
      ],
      "metadata": {
        "id": "EWNN-bncKzjn"
      },
      "execution_count": null,
      "outputs": []
    }
  ]
}